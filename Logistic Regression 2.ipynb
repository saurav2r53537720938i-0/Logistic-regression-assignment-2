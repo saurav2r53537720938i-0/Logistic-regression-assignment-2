{
 "cells": [
  {
   "cell_type": "markdown",
   "id": "e3bacf2e-3170-4fc3-bc3c-f46ed8428730",
   "metadata": {},
   "source": [
    "The purpose of grid search cross-validation(CV) in machine learning is to find optimal hyperparamter for a model.\n",
    "Hyperprameters are setting that are not learned during traning but affect the learning process such as the learning \n",
    "rate in neural networks or the depth of a decsion tree.Grid search CV works by exhaustively searcing though a specfied subset of hyperparamter combinations evaluating each combination using cross-validation to estimate the model's performance.Cross -Validation involves splitting the dataset into multiple subset traning the model on a subset of the data and evaluating"
   ]
  },
  {
   "cell_type": "markdown",
   "id": "36d2fdf2-bef2-4cb8-85f5-7cd8149ef0fa",
   "metadata": {},
   "source": [
    "Grid Search CV and Randomize Search CV are both techniques used for hyperparamter turning in machine learning but they differ in their apporach to exploring the hyperparmter space.\n",
    "1.Grid search CV\n",
    "2. Randomized Search CV"
   ]
  },
  {
   "cell_type": "markdown",
   "id": "0277857d-6948-46b5-9ecd-d9f044330c94",
   "metadata": {},
   "source": [
    "Data leakage refers to the situation where information from outside the traniing dataset is used to create a machine learning model,leadiing to overly optimistic performance estimate and potentially incorrect conclusion it can occur when feature in the traniing dataset inadvertently contain information about the target variable that could.Data leakage is a problem in machine learning because it can lead to inflated performance metrics during traning but model fails to perform well on new unseen data.This happens because the model has learned to exploit"
   ]
  },
  {
   "cell_type": "markdown",
   "id": "c0205216-33cc-427c-98a7-7a08f1b29530",
   "metadata": {},
   "source": [
    "Preventing data leakage is cruicial when building machine learning models. Here are some key practices to help prvent data leakage:\n",
    "1. Split Data properly\n",
    "2. Feature Engineering\n",
    "3. Cross Valiadation\n",
    "4. Time Series Data\n",
    "5. Normalize/Scalliing\n",
    "6. Handle Missing Value\n",
    "7. Regularization\n",
    "8. Pipeline Construction\n",
    "9. Feature Slection\n",
    "10. Sensitive information Handling"
   ]
  },
  {
   "cell_type": "code",
   "execution_count": 2,
   "id": "6101ff18-d8c7-4fbe-a350-346a76a117a7",
   "metadata": {},
   "outputs": [
    {
     "ename": "IndentationError",
     "evalue": "unindent does not match any outer indentation level (<tokenize>, line 3)",
     "output_type": "error",
     "traceback": [
      "\u001b[0;36m  File \u001b[0;32m<tokenize>:3\u001b[0;36m\u001b[0m\n\u001b[0;31m    Negative   ]\u001b[0m\n\u001b[0m    ^\u001b[0m\n\u001b[0;31mIndentationError\u001b[0m\u001b[0;31m:\u001b[0m unindent does not match any outer indentation level\n"
     ]
    }
   ],
   "source": [
    "predicted class\n",
    "               [ postive ]\n",
    "    Negative   ]\n",
    "    Actual class\n",
    "    postive     [ True postive\n",
    "    False Negative]\n",
    "    Negative      [ False postive\n",
    "    True Negative"
   ]
  },
  {
   "cell_type": "markdown",
   "id": "8ce15ae2-e79c-4c2b-9bb1-d40225676b6b",
   "metadata": {},
   "source": [
    "Precision and recall are both important metrics used to evaluate the performance of a classification model,but they  focus on diffrent aspects of the model's prediction:\n",
    "1. Precision\n",
    "2. Recall(Senstivity)"
   ]
  },
  {
   "cell_type": "markdown",
   "id": "207d9857-b50e-4ac9-baeb-2e666276e599",
   "metadata": {},
   "source": [
    "A confusion matrix is a useful tool in evaluatiing the performance of a classfication model.it provides a breakdown \n",
    "of the model's prediction compared to the actual class labels here how you can interpret a confussion:\n",
    "1. True postive(TP)\n",
    "2. True Negative(TN)\n",
    "3. False postive(Fp)\n",
    "4. False Negative(FN)"
   ]
  },
  {
   "cell_type": "markdown",
   "id": "4f6323f9-5b7b-42c6-89a6-b51c8ee83799",
   "metadata": {},
   "source": [
    "Sevral common metrics can be dervied from a confussion matrix to evaluate the performance of a classfication model here are some of them:\n",
    "1. Accuracy\n",
    "2. Precsion\n",
    "3. Recall\n",
    "4. Specificity\n",
    "5. F1 Score\n",
    "6. False postive Rate\n",
    "7. False Negative rate(FNR)"
   ]
  },
  {
   "cell_type": "markdown",
   "id": "1a452fb6-7c77-4738-9463-793c3c38e3f6",
   "metadata": {},
   "source": [
    "The accuracy of a model is a measure of how often the model predction are correct while the confussion matrix proviides a detailed breakdown of the model's performance across diffrent classes the relationship between the accuracy of a model and the value of a its confussion matrix can be understood as follow:\n",
    "1. Accuracy:Accuracy is calculated as the ratio of correctly predicted instnaces both true postives and true negatives to the total number of intances it provide an overall assement of the model.\n",
    "2. Confusssion Matrix:The confusssion matrix provides a breakdown of the them to the actual\n",
    "class labels."
   ]
  },
  {
   "cell_type": "code",
   "execution_count": null,
   "id": "8042b440-00ed-47a6-bac9-e7bc89667103",
   "metadata": {},
   "outputs": [],
   "source": []
  }
 ],
 "metadata": {
  "kernelspec": {
   "display_name": "Python 3 (ipykernel)",
   "language": "python",
   "name": "python3"
  },
  "language_info": {
   "codemirror_mode": {
    "name": "ipython",
    "version": 3
   },
   "file_extension": ".py",
   "mimetype": "text/x-python",
   "name": "python",
   "nbconvert_exporter": "python",
   "pygments_lexer": "ipython3",
   "version": "3.10.8"
  }
 },
 "nbformat": 4,
 "nbformat_minor": 5
}
